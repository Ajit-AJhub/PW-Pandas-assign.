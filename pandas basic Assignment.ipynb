{
 "cells": [
  {
   "cell_type": "code",
   "execution_count": null,
   "id": "4c5ec68f-cf0f-48b5-98fd-5b5dfcfae412",
   "metadata": {},
   "outputs": [],
   "source": [
    "Q1. Create a Pandas Series that contains the following data: 4, 8, 15, 16, 23, and 42. Then, print the series.\n",
    "\n",
    "Ans1-"
   ]
  },
  {
   "cell_type": "code",
   "execution_count": 2,
   "id": "55065764-5daf-42bf-b1f1-222b2d8d61b6",
   "metadata": {},
   "outputs": [
    {
     "name": "stdout",
     "output_type": "stream",
     "text": [
      "0     4\n",
      "1     8\n",
      "2    15\n",
      "3    16\n",
      "4    23\n",
      "5    42\n",
      "dtype: int64\n"
     ]
    }
   ],
   "source": [
    "import pandas as pd\n",
    "\n",
    "data = [4, 8, 15, 16, 23, 42]\n",
    "series = pd.Series(data)\n",
    "\n",
    "print(series)\n"
   ]
  },
  {
   "cell_type": "code",
   "execution_count": null,
   "id": "fb12b009-8c0d-4e17-a505-072c4f911c88",
   "metadata": {},
   "outputs": [],
   "source": [
    "Q2. Create a variable of list type containing 10 elements in it, and apply pandas.Series function on the\n",
    "variable print it.\n",
    "Ans2-"
   ]
  },
  {
   "cell_type": "code",
   "execution_count": 3,
   "id": "dc7ffee2-c19e-4ec9-877b-d1d7496d6e88",
   "metadata": {},
   "outputs": [
    {
     "name": "stdout",
     "output_type": "stream",
     "text": [
      "0     1\n",
      "1     2\n",
      "2     3\n",
      "3     4\n",
      "4     5\n",
      "5     6\n",
      "6     7\n",
      "7     8\n",
      "8     9\n",
      "9    10\n",
      "dtype: int64\n"
     ]
    }
   ],
   "source": [
    "import pandas as pd\n",
    "\n",
    "my_list = [1, 2, 3, 4, 5, 6, 7, 8, 9, 10]\n",
    "series = pd.Series(my_list)\n",
    "print(series)\n"
   ]
  },
  {
   "cell_type": "code",
   "execution_count": null,
   "id": "bd67cb84-3103-40e8-b86e-482eb2d2df6a",
   "metadata": {},
   "outputs": [],
   "source": [
    "Q3. Create a Pandas DataFrame that contains the following data:\n",
    "\n",
    "Then, print the DataFrame.\n",
    "Ans3-"
   ]
  },
  {
   "cell_type": "code",
   "execution_count": 6,
   "id": "e98f8c34-4d65-46f0-ab6c-4e8f6120734d",
   "metadata": {},
   "outputs": [
    {
     "name": "stdout",
     "output_type": "stream",
     "text": [
      "     Name  Age  Gender\n",
      "0   Alice   25  Female\n",
      "1     Bob   30    Male\n",
      "2  claire   27  Female\n"
     ]
    }
   ],
   "source": [
    "import pandas as pd\n",
    "\n",
    "data = {\n",
    "    'Name': ['Alice', 'Bob', 'claire'],\n",
    "    'Age': [25, 30, 27],\n",
    "    'Gender': ['Female','Male','Female']\n",
    "}\n",
    "\n",
    "df = pd.DataFrame(data)\n",
    "print(df)\n"
   ]
  },
  {
   "cell_type": "code",
   "execution_count": null,
   "id": "621a0343-d837-4ba1-a039-dd256f71e2e6",
   "metadata": {},
   "outputs": [],
   "source": [
    "Q4. What is ‘DataFrame’ in pandas and how is it different from pandas.series? Explain with an example.\n",
    "Ans4-"
   ]
  },
  {
   "cell_type": "code",
   "execution_count": null,
   "id": "94abbacc-a83c-4677-9662-642f3f1163a3",
   "metadata": {},
   "outputs": [],
   "source": [
    "In Pandas, a DataFrame is a two-dimensional labeled data structure that consists of columns, rows, and an index. \n",
    "It can be thought of as a table or a spreadsheet-like data structure where data is organized in a tabular format. \n",
    "The DataFrame is one of the primary data structures provided by the Pandas library and is incredibly versatile for data manipulation and \n",
    "analysis tasks.\n",
    "\n",
    "On the other hand, a pandas Series is a one-dimensional labeled array-like object. It is similar to a column in a DataFrame or a single \n",
    "column of data. A Series can hold any data type and is labeled with an index. It can be seen as a single column of data, with labels for \n",
    "each entry in the column.\n",
    "\n",
    "now, example of :"
   ]
  },
  {
   "cell_type": "code",
   "execution_count": 8,
   "id": "bb3fdff4-0364-4068-b883-bc4378704e3e",
   "metadata": {},
   "outputs": [
    {
     "name": "stdout",
     "output_type": "stream",
     "text": [
      "0    1\n",
      "1    2\n",
      "2    3\n",
      "3    4\n",
      "4    5\n",
      "dtype: int64\n"
     ]
    }
   ],
   "source": [
    "import pandas as pd\n",
    "\n",
    "# Creating a Series\n",
    "s = pd.Series([1, 2, 3, 4, 5])\n",
    "print(s)\n"
   ]
  },
  {
   "cell_type": "code",
   "execution_count": 7,
   "id": "6e12914a-ed52-4a84-8218-49c8bd14e746",
   "metadata": {},
   "outputs": [
    {
     "name": "stdout",
     "output_type": "stream",
     "text": [
      "   Column 1 Column 2\n",
      "0         1        A\n",
      "1         2        B\n",
      "2         3        C\n",
      "3         4        D\n",
      "4         5        E\n"
     ]
    }
   ],
   "source": [
    "#DataFrame using multiple Series:\n",
    "df = pd.DataFrame({'Column 1': [1, 2, 3, 4, 5],\n",
    "                   'Column 2': ['A', 'B', 'C', 'D', 'E']})\n",
    "print(df)\n"
   ]
  },
  {
   "cell_type": "code",
   "execution_count": null,
   "id": "6f4c125d-9bb2-49a8-9026-9d9e62925af6",
   "metadata": {},
   "outputs": [],
   "source": [
    "Q5. What are some common functions you can use to manipulate data in a Pandas DataFrame? Can\n",
    "you give an example of when you might use one of these functions?\n",
    "\n",
    "Ans5-"
   ]
  },
  {
   "cell_type": "code",
   "execution_count": null,
   "id": "faf03a03-969c-4b70-995c-73051878f21f",
   "metadata": {},
   "outputs": [],
   "source": [
    "Pandas provides a wide range of functions to manipulate data in a DataFrame. Here are some common functions and their potential use cases:\n",
    "\n",
    "1. **head()**: Returns the first n rows of the DataFrame. It is useful for quickly inspecting the structure and contents of a DataFrame.\n",
    "\n",
    "```python\n",
    "df.head(5)  # Returns the first 5 rows of the DataFrame\n",
    "```\n",
    "\n",
    "2. **tail()**: Returns the last n rows of the DataFrame. It is helpful for checking the last few records in a dataset.\n",
    "\n",
    "```python\n",
    "df.tail(3)  # Returns the last 3 rows of the DataFrame\n",
    "```\n",
    "\n",
    "3. **info()**: Provides a summary of the DataFrame, including the data types, column names, and number of non-null values.\n",
    "It is useful for understanding the overall structure and data quality of a DataFrame.\n",
    "\n",
    "```python\n",
    "df.info()  # Displays the summary information of the DataFrame\n",
    "```\n",
    "\n",
    "4. **describe()**: Generates descriptive statistics of the DataFrame, such as count, mean, standard deviation, minimum, and maximum values. \n",
    "It helps in obtaining insights into the distribution and statistical properties of the data.\n",
    "\n",
    "```python\n",
    "df.describe()  # Computes summary statistics of the DataFrame\n",
    "```\n",
    "\n",
    "5. **shape**: Returns the dimensions (rows, columns) of the DataFrame as a tuple. It is handy for quickly checking the size of the DataFrame.\n",
    "\n",
    "```python\n",
    "df.shape  # Returns the dimensions of the DataFrame\n",
    "```\n",
    "\n"
   ]
  },
  {
   "cell_type": "code",
   "execution_count": null,
   "id": "36f6b7a9-1017-4d2f-a616-ce1b7c07bd9e",
   "metadata": {},
   "outputs": [],
   "source": [
    "Q6. Which of the following is mutable in nature Series, DataFrame, Panel?\n",
    "Ans6-\n"
   ]
  },
  {
   "cell_type": "code",
   "execution_count": null,
   "id": "263c7366-a50a-49da-8943-49896651ac88",
   "metadata": {},
   "outputs": [],
   "source": [
    "In the pandas library, both Series and DataFrame are mutable, while Panel is not mutable. \n",
    "\n",
    "A Series is a one-dimensional labeled array capable of holding any data type, similar to a column in a spreadsheet or a SQL table. \n",
    "You can modify the values in a Series by assigning new values to specific indices.\n",
    "\n",
    "A DataFrame is a two-dimensional labeled data structure with columns of potentially different data types. \n",
    "It can be thought of as a table or a spreadsheet. Similar to a Series, you can modify the values in a DataFrame by assigning new values to \n",
    "specific cells, rows, or columns.\n",
    "\n",
    "On the other hand, a Panel is a three-dimensional data structure in pandas that can be thought of as a container for multiple DataFrames. \n",
    "It is generally used when you have heterogeneous data and need to perform operations on different dimensions. However, the Panel object is \n",
    "considered deprecated, and it is recommended to use multi-indexing with a DataFrame instead. Since it is deprecated, it is not mutable.\n",
    "\n",
    "To summarize, both Series and DataFrame are mutable, while Panel is not."
   ]
  },
  {
   "cell_type": "code",
   "execution_count": null,
   "id": "51436cf0-f4c5-4cf2-89e0-88d40cf46f09",
   "metadata": {},
   "outputs": [],
   "source": [
    "Q7. Create a DataFrame using multiple Series. Explain with an example.\n",
    "Ans7-"
   ]
  },
  {
   "cell_type": "code",
   "execution_count": 11,
   "id": "8a0fe100-c2f7-4d21-9be0-d9c5c5980aaa",
   "metadata": {},
   "outputs": [
    {
     "name": "stdout",
     "output_type": "stream",
     "text": [
      "    Name  Age       City\n",
      "0   Ajit   25   Varanasi\n",
      "1  Rahul   32    Haryana\n",
      "2  Ankur   47  Gorakhpur\n",
      "3  Rajat   18   Mirzapur\n"
     ]
    }
   ],
   "source": [
    "import pandas as pd\n",
    "\n",
    "\n",
    "names = pd.Series(['Ajit', 'Rahul', 'Ankur', 'Rajat'])\n",
    "\n",
    "\n",
    "ages = pd.Series([25, 32, 47, 18])\n",
    "\n",
    "\n",
    "cities = pd.Series(['Varanasi', 'Haryana', 'Gorakhpur', 'Mirzapur'])\n",
    "\n",
    "\n",
    "df = pd.DataFrame({'Name': names, 'Age': ages, 'City': cities})\n",
    "\n",
    "\n",
    "print(df)\n"
   ]
  },
  {
   "cell_type": "code",
   "execution_count": null,
   "id": "34f30a94-24e8-44b1-be42-ee62e77f020a",
   "metadata": {},
   "outputs": [],
   "source": []
  }
 ],
 "metadata": {
  "kernelspec": {
   "display_name": "Python 3 (ipykernel)",
   "language": "python",
   "name": "python3"
  },
  "language_info": {
   "codemirror_mode": {
    "name": "ipython",
    "version": 3
   },
   "file_extension": ".py",
   "mimetype": "text/x-python",
   "name": "python",
   "nbconvert_exporter": "python",
   "pygments_lexer": "ipython3",
   "version": "3.10.8"
  }
 },
 "nbformat": 4,
 "nbformat_minor": 5
}
